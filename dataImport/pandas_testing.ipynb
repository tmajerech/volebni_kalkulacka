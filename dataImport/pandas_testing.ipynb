{
 "cells": [
  {
   "cell_type": "code",
   "execution_count": 2,
   "id": "allied-prefix",
   "metadata": {},
   "outputs": [],
   "source": [
    "import pandas as pd\n",
    "import psycopg2\n",
    "import psycopg2.extras\n",
    "from psycopg2.extras import RealDictCursor\n",
    "\n",
    "\n",
    "connection = psycopg2.connect(\n",
    "    database = 'volebnikalkulacka',\n",
    "    user = 'postgres',\n",
    "    password = 'root',\n",
    "    )"
   ]
  },
  {
   "cell_type": "code",
   "execution_count": 3,
   "id": "automotive-asian",
   "metadata": {},
   "outputs": [],
   "source": [
    "SQL_Query = pd.read_sql_query(\n",
    "'''\n",
    "SELECT zkratka,vysledek\n",
    "FROM psp_data_hl_poslanec AS hp \n",
    "\tINNER JOIN psp_data_poslanec AS p \n",
    "\tON hp.id_poslanec = p.id_poslanec \n",
    "    \n",
    "    INNER JOIN psp_data_zarazeni AS z\n",
    "    ON p.id_osoba = z.id_osoba\n",
    "    \n",
    "    INNER JOIN psp_data_organy as o\n",
    "    ON z.id_of = o.id_organ\n",
    "    \n",
    "    INNER JOIN psp_data_osoby as os\n",
    "    ON os.id_osoba = p.id_osoba\n",
    "    \n",
    "WHERE hp.id_hlasovani = 67306 --konkretni jedno hlasovani\n",
    "AND z.cl_funkce = 0 --clenstvi\n",
    "AND z.do_o IS NULL\n",
    "AND o.organ_id_organ = 172 --Aktualni volebni obdobi\n",
    "AND o.id_typ_organu = 1 --Klub\n",
    "\n",
    "\n",
    "''', connection)\n",
    "\n",
    "df = pd.DataFrame(SQL_Query)"
   ]
  },
  {
   "cell_type": "code",
   "execution_count": 91,
   "id": "incorporated-proposal",
   "metadata": {},
   "outputs": [],
   "source": []
  },
  {
   "cell_type": "code",
   "execution_count": 4,
   "id": "specialized-annual",
   "metadata": {},
   "outputs": [
    {
     "data": {
      "text/html": [
       "<div>\n",
       "<style scoped>\n",
       "    .dataframe tbody tr th:only-of-type {\n",
       "        vertical-align: middle;\n",
       "    }\n",
       "\n",
       "    .dataframe tbody tr th {\n",
       "        vertical-align: top;\n",
       "    }\n",
       "\n",
       "    .dataframe thead th {\n",
       "        text-align: right;\n",
       "    }\n",
       "</style>\n",
       "<table border=\"1\" class=\"dataframe\">\n",
       "  <thead>\n",
       "    <tr style=\"text-align: right;\">\n",
       "      <th></th>\n",
       "      <th>zkratka</th>\n",
       "      <th>vysledek</th>\n",
       "    </tr>\n",
       "  </thead>\n",
       "  <tbody>\n",
       "    <tr>\n",
       "      <th>5</th>\n",
       "      <td>Piráti</td>\n",
       "      <td>@</td>\n",
       "    </tr>\n",
       "    <tr>\n",
       "      <th>9</th>\n",
       "      <td>Piráti</td>\n",
       "      <td>K</td>\n",
       "    </tr>\n",
       "    <tr>\n",
       "      <th>13</th>\n",
       "      <td>KDU-ČSL</td>\n",
       "      <td>@</td>\n",
       "    </tr>\n",
       "    <tr>\n",
       "      <th>17</th>\n",
       "      <td>ODS</td>\n",
       "      <td>@</td>\n",
       "    </tr>\n",
       "    <tr>\n",
       "      <th>20</th>\n",
       "      <td>Nezařaz</td>\n",
       "      <td>K</td>\n",
       "    </tr>\n",
       "    <tr>\n",
       "      <th>...</th>\n",
       "      <td>...</td>\n",
       "      <td>...</td>\n",
       "    </tr>\n",
       "    <tr>\n",
       "      <th>179</th>\n",
       "      <td>ODS</td>\n",
       "      <td>B</td>\n",
       "    </tr>\n",
       "    <tr>\n",
       "      <th>180</th>\n",
       "      <td>KSČM</td>\n",
       "      <td>A</td>\n",
       "    </tr>\n",
       "    <tr>\n",
       "      <th>181</th>\n",
       "      <td>Piráti</td>\n",
       "      <td>B</td>\n",
       "    </tr>\n",
       "    <tr>\n",
       "      <th>182</th>\n",
       "      <td>KDU-ČSL</td>\n",
       "      <td>@</td>\n",
       "    </tr>\n",
       "    <tr>\n",
       "      <th>183</th>\n",
       "      <td>ANO</td>\n",
       "      <td>A</td>\n",
       "    </tr>\n",
       "  </tbody>\n",
       "</table>\n",
       "<p>81 rows × 2 columns</p>\n",
       "</div>"
      ],
      "text/plain": [
       "     zkratka vysledek\n",
       "5     Piráti        @\n",
       "9     Piráti        K\n",
       "13   KDU-ČSL        @\n",
       "17       ODS        @\n",
       "20   Nezařaz        K\n",
       "..       ...      ...\n",
       "179      ODS        B\n",
       "180     KSČM        A\n",
       "181   Piráti        B\n",
       "182  KDU-ČSL        @\n",
       "183      ANO        A\n",
       "\n",
       "[81 rows x 2 columns]"
      ]
     },
     "execution_count": 4,
     "metadata": {},
     "output_type": "execute_result"
    }
   ],
   "source": [
    "df.groupby(['zkratka', 'vysledek']).tail()"
   ]
  },
  {
   "cell_type": "code",
   "execution_count": 5,
   "id": "hairy-indie",
   "metadata": {},
   "outputs": [
    {
     "data": {
      "text/plain": [
       "0          ODS\n",
       "1          ANO\n",
       "2         KSČM\n",
       "3          ANO\n",
       "4          ANO\n",
       "        ...   \n",
       "179        ODS\n",
       "180       KSČM\n",
       "181     Piráti\n",
       "182    KDU-ČSL\n",
       "183        ANO\n",
       "Name: zkratka, Length: 184, dtype: object"
      ]
     },
     "execution_count": 5,
     "metadata": {},
     "output_type": "execute_result"
    }
   ],
   "source": [
    "df['zkratka']"
   ]
  },
  {
   "cell_type": "code",
   "execution_count": 13,
   "id": "beneficial-personality",
   "metadata": {},
   "outputs": [
    {
     "data": {
      "text/plain": [
       "24.456521739130437"
      ]
     },
     "execution_count": 13,
     "metadata": {},
     "output_type": "execute_result"
    }
   ],
   "source": [
    "total_difference = 0\n",
    "for party in df['zkratka'].unique():\n",
    "    pro_df = df.query(f'zkratka==\"{party}\" & vysledek == \"A\"')\n",
    "    proti_df = df.query(f'zkratka==\"{party}\" & (vysledek == \"B\" | vysledek == \"N\" )').count()\n",
    "    members_count = len(df.query(f'zkratka==\"{party}\" & (vysledek == \"A\" | vysledek == \"B\" | vysledek == \"N\" ) ').index)\n",
    "    \n",
    "    if(members_count == 0):\n",
    "        break\n",
    "    \n",
    "    pro_percentage = len(pro_df.index)/members_count\n",
    "    proti_percentage = len(proti_df.index)/members_count\n",
    "    party_difference = 1 - abs(pro_percentage-proti_percentage)\n",
    "    \n",
    "    total_difference += party_difference * (members_count/len(df.index)) * 100\n",
    "    \n",
    "total_difference"
   ]
  },
  {
   "cell_type": "code",
   "execution_count": null,
   "id": "regulated-queue",
   "metadata": {},
   "outputs": [],
   "source": []
  },
  {
   "cell_type": "code",
   "execution_count": 12,
   "id": "underlying-great",
   "metadata": {},
   "outputs": [
    {
     "data": {
      "text/plain": [
       "184"
      ]
     },
     "execution_count": 12,
     "metadata": {},
     "output_type": "execute_result"
    }
   ],
   "source": []
  },
  {
   "cell_type": "code",
   "execution_count": null,
   "id": "possible-brass",
   "metadata": {},
   "outputs": [],
   "source": []
  },
  {
   "cell_type": "code",
   "execution_count": null,
   "id": "fifteen-cleaner",
   "metadata": {},
   "outputs": [],
   "source": []
  },
  {
   "cell_type": "code",
   "execution_count": null,
   "id": "initial-practice",
   "metadata": {},
   "outputs": [],
   "source": []
  },
  {
   "cell_type": "code",
   "execution_count": null,
   "id": "documented-rolling",
   "metadata": {},
   "outputs": [],
   "source": []
  },
  {
   "cell_type": "code",
   "execution_count": null,
   "id": "atomic-department",
   "metadata": {},
   "outputs": [],
   "source": []
  },
  {
   "cell_type": "code",
   "execution_count": null,
   "id": "electronic-recall",
   "metadata": {},
   "outputs": [],
   "source": []
  },
  {
   "cell_type": "code",
   "execution_count": null,
   "id": "provincial-mills",
   "metadata": {},
   "outputs": [],
   "source": []
  },
  {
   "cell_type": "code",
   "execution_count": null,
   "id": "conscious-cream",
   "metadata": {},
   "outputs": [],
   "source": []
  },
  {
   "cell_type": "code",
   "execution_count": null,
   "id": "growing-insight",
   "metadata": {},
   "outputs": [],
   "source": []
  },
  {
   "cell_type": "code",
   "execution_count": null,
   "id": "north-consciousness",
   "metadata": {},
   "outputs": [],
   "source": []
  },
  {
   "cell_type": "code",
   "execution_count": null,
   "id": "comparable-daughter",
   "metadata": {},
   "outputs": [],
   "source": []
  },
  {
   "cell_type": "code",
   "execution_count": null,
   "id": "beautiful-ghost",
   "metadata": {},
   "outputs": [],
   "source": []
  },
  {
   "cell_type": "code",
   "execution_count": null,
   "id": "purple-environment",
   "metadata": {},
   "outputs": [],
   "source": []
  },
  {
   "cell_type": "code",
   "execution_count": null,
   "id": "arranged-roller",
   "metadata": {},
   "outputs": [],
   "source": []
  },
  {
   "cell_type": "code",
   "execution_count": null,
   "id": "fancy-czech",
   "metadata": {},
   "outputs": [],
   "source": []
  },
  {
   "cell_type": "code",
   "execution_count": null,
   "id": "civic-sitting",
   "metadata": {},
   "outputs": [],
   "source": []
  },
  {
   "cell_type": "code",
   "execution_count": null,
   "id": "preceding-nickname",
   "metadata": {},
   "outputs": [],
   "source": []
  },
  {
   "cell_type": "code",
   "execution_count": null,
   "id": "treated-concentrate",
   "metadata": {},
   "outputs": [],
   "source": []
  },
  {
   "cell_type": "code",
   "execution_count": null,
   "id": "conceptual-respondent",
   "metadata": {},
   "outputs": [],
   "source": []
  },
  {
   "cell_type": "code",
   "execution_count": null,
   "id": "honey-major",
   "metadata": {},
   "outputs": [],
   "source": []
  }
 ],
 "metadata": {
  "kernelspec": {
   "display_name": "Python 3",
   "language": "python",
   "name": "python3"
  },
  "language_info": {
   "codemirror_mode": {
    "name": "ipython",
    "version": 3
   },
   "file_extension": ".py",
   "mimetype": "text/x-python",
   "name": "python",
   "nbconvert_exporter": "python",
   "pygments_lexer": "ipython3",
   "version": "3.9.1"
  }
 },
 "nbformat": 4,
 "nbformat_minor": 5
}
